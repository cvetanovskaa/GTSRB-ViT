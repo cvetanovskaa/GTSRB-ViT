{
 "cells": [
  {
   "cell_type": "code",
   "execution_count": null,
   "metadata": {},
   "outputs": [],
   "source": [
    "import transformers\n",
    "import numpy as np\n",
    "import matplotlib.pyplot as plt\n",
    "import seaborn as sns\n",
    "import scipy\n",
    "import pandas as pd\n",
    "from datasets import Dataset\n",
    "import random\n",
    "from PIL import Image, ImageDraw"
   ]
  },
  {
   "cell_type": "code",
   "execution_count": null,
   "metadata": {},
   "outputs": [],
   "source": [
    "label_mapping = {\n",
    "    0: 0,\n",
    "    1: 1,\n",
    "    2: 12,\n",
    "    3: 23,\n",
    "    4: 34,\n",
    "    5: 38,\n",
    "    6: 39,\n",
    "    7: 40,\n",
    "    8: 41,\n",
    "    9: 42,\n",
    "    10: 2,\n",
    "    11: 3,\n",
    "    12: 4,\n",
    "    13: 5,\n",
    "    14: 6,\n",
    "    15: 7,\n",
    "    16: 8,\n",
    "    17: 9,\n",
    "    18: 10,\n",
    "    19: 11,\n",
    "    20: 13,\n",
    "    21: 14,\n",
    "    22: 15,\n",
    "    23: 16,\n",
    "    24: 17,\n",
    "    25: 18,\n",
    "    26: 19,\n",
    "    27: 20,\n",
    "    28: 21,\n",
    "    29: 22,\n",
    "    30: 24,\n",
    "    31: 25,\n",
    "    32: 26,\n",
    "    33: 27,\n",
    "    34: 28,\n",
    "    35: 29,\n",
    "    36: 30,\n",
    "    37: 31,\n",
    "    38: 32,\n",
    "    39: 33,\n",
    "    40: 35,\n",
    "    41: 36,\n",
    "    42: 37\n",
    "}\n",
    "\n",
    "len(set(mappings.keys())), len(set(mappings.values()))"
   ]
  },
  {
   "cell_type": "code",
   "execution_count": 46,
   "metadata": {},
   "outputs": [
    {
     "name": "stderr",
     "output_type": "stream",
     "text": [
      "/Users/aleksandra.cvetanovska/.pyenv/versions/3.9.12/lib/python3.9/site-packages/transformers/models/vit/feature_extraction_vit.py:28: FutureWarning: The class ViTFeatureExtractor is deprecated and will be removed in version 5 of Transformers. Please use ViTImageProcessor instead.\n",
      "  warnings.warn(\n"
     ]
    },
    {
     "data": {
      "application/vnd.jupyter.widget-view+json": {
       "model_id": "d3fa3432abc948619fae5c736120f731",
       "version_major": 2,
       "version_minor": 0
      },
      "text/plain": [
       "Map:   0%|          | 0/12630 [00:00<?, ? examples/s]"
      ]
     },
     "metadata": {},
     "output_type": "display_data"
    }
   ],
   "source": [
    "# Load the CSV file\n",
    "test_df = pd.read_csv('./data/Test.csv')\n",
    "test_df['labels'] = test_df['ClassId'].map(label_mapping)\n",
    "\n",
    "# Create a Hugging Face Dataset from the DataFrame\n",
    "test_dataset = Dataset.from_pandas(test_df)\n",
    "from PIL import Image\n",
    "from transformers import ViTFeatureExtractor\n",
    "\n",
    "# Initialize the feature extractor\n",
    "feature_extractor = ViTFeatureExtractor.from_pretrained('cvetanovskaa/vit-base-patch16-224-in21k-gtsrb-tuned')\n",
    "\n",
    "# Function to process the images\n",
    "def transform(examples):\n",
    "    # Adjust the path as necessary to locate the images\n",
    "    images = [Image.open('./data/' + path).convert(\"RGB\") for path in examples['Path']]\n",
    "    # Apply feature extractor\n",
    "    return feature_extractor(images, return_tensors=\"pt\")\n",
    "\n",
    "# Apply the transform function\n",
    "test_dataset = test_dataset.map(transform, batched=True)"
   ]
  },
  {
   "cell_type": "code",
   "execution_count": 47,
   "metadata": {},
   "outputs": [],
   "source": [
    "test_dataset.set_format(type='torch', columns=['pixel_values', 'labels'])"
   ]
  },
  {
   "cell_type": "code",
   "execution_count": 52,
   "metadata": {},
   "outputs": [],
   "source": [
    "from transformers import ViTForImageClassification, ViTFeatureExtractor\n",
    "from torch.utils.data import DataLoader\n",
    "import torch\n",
    "\n",
    "model = ViTForImageClassification.from_pretrained('cvetanovskaa/vit-base-patch16-224-in21k-gtsrb-tuned')"
   ]
  },
  {
   "cell_type": "code",
   "execution_count": 53,
   "metadata": {},
   "outputs": [],
   "source": [
    "test_loader = DataLoader(test_dataset, batch_size=8)\n",
    "\n",
    "# Move the model to the GPU if available\n",
    "device = torch.device('cuda' if torch.cuda.is_available() else 'cpu')\n",
    "model.to(device)\n",
    "\n",
    "# Put the model in evaluation mode\n",
    "model.eval()\n",
    "\n",
    "# Store predictions and true labels\n",
    "predictions = []\n",
    "true_labels = []\n",
    "\n",
    "with torch.no_grad():\n",
    "    for batch in test_loader:\n",
    "        inputs = batch['pixel_values'].to(device)\n",
    "        labels = batch['labels'].to(device)\n",
    "        outputs = model(inputs)\n",
    "        logits = outputs.logits\n",
    "        preds = torch.argmax(logits, dim=-1)\n",
    "        predictions.extend(preds.cpu().numpy())\n",
    "        true_labels.extend(labels.cpu().numpy())"
   ]
  },
  {
   "cell_type": "code",
   "execution_count": 63,
   "metadata": {},
   "outputs": [
    {
     "name": "stdout",
     "output_type": "stream",
     "text": [
      "Accuracy: 0.9868566904196358\n"
     ]
    }
   ],
   "source": [
    "from sklearn.metrics import accuracy_score, classification_report\n",
    "\n",
    "accuracy = accuracy_score(true_labels, predictions)\n",
    "print(f\"Accuracy: {accuracy}\")"
   ]
  },
  {
   "cell_type": "code",
   "execution_count": 64,
   "metadata": {},
   "outputs": [
    {
     "name": "stdout",
     "output_type": "stream",
     "text": [
      "                                          precision    recall  f1-score   support\n",
      "\n",
      "                     Speed Limit 20Km/Hr       0.97      1.00      0.98        60\n",
      "                     Speed Limit 30Km⁄Hr       0.99      1.00      1.00       720\n",
      "      No Passing Of  Vehicle Over 3.5Ton       1.00      0.99      1.00       660\n",
      "                              Crossroads       1.00      0.98      0.99       420\n",
      "                      Priority Road Sign       1.00      0.99      1.00       690\n",
      "                                   Yield       0.99      1.00      1.00       720\n",
      "                                    Stop       1.00      1.00      1.00       270\n",
      "                             No Vehicles       1.00      1.00      1.00       210\n",
      "          Vehicle Over 3.5Ton Prohibited       1.00      1.00      1.00       150\n",
      "                                No Entry       1.00      1.00      1.00       360\n",
      "                         General Caution       1.00      0.96      0.98       390\n",
      "                 Dangerous Curve To Left       0.98      1.00      0.99        60\n",
      "                     Speed Limit 50Km⁄Hr       0.99      1.00      0.99       750\n",
      "                Dangerous Curve To Right       1.00      1.00      1.00        90\n",
      "                            Double Curve       0.87      1.00      0.93        90\n",
      "                              Bumpy Road       1.00      0.85      0.92       120\n",
      "                           Slippery Road       1.00      0.88      0.94       150\n",
      "                    Narrow Road On Right       1.00      0.98      0.99        90\n",
      "                               Road Work       0.96      0.99      0.98       480\n",
      "                            Traffic Sign       0.99      1.00      1.00       180\n",
      "                              Pedestrian       0.98      1.00      0.99        60\n",
      "                       Children Crossing       1.00      1.00      1.00       150\n",
      "                        Bicycle Crossing       1.00      1.00      1.00        90\n",
      "                     Speed Limit 60Km⁄Hr       0.99      0.96      0.98       450\n",
      "                      Beware Of Ice/Snow       0.94      1.00      0.97       150\n",
      "                    Wild Animal Crossing       0.93      1.00      0.97       270\n",
      "      End Of All Speed And Passing Limit       1.00      1.00      1.00        60\n",
      "                   Compulsory Turn Right       1.00      1.00      1.00       210\n",
      "                    Compulsory Turn Left       0.99      1.00      1.00       120\n",
      "                          Straight Ahead       0.99      0.93      0.96       390\n",
      "                    Go Straight Or Right       0.99      0.98      0.99       120\n",
      "                     Go Straight Or Left       0.70      0.98      0.82        60\n",
      "                 Avoid Obstacle On Right       1.00      1.00      1.00       690\n",
      "                  Avoid Obstacle On Left       1.00      1.00      1.00        90\n",
      "                     Speed Limit 70Km⁄Hr       1.00      0.99      1.00       660\n",
      "                              Roundabout       1.00      0.99      0.99        90\n",
      "                       End Of No Passing       1.00      1.00      1.00        60\n",
      "End Of No Passing By Vehicle Over 3.5Ton       0.91      1.00      0.95        90\n",
      "                     Speed Limit 80Km⁄Hr       0.97      1.00      0.98       630\n",
      "              End Of Speed Limit 80Km/Hr       1.00      0.94      0.97       150\n",
      "                    Speed Limit 100Km⁄Hr       1.00      0.99      0.99       450\n",
      "                    Speed Limit 120Km⁄Hr       1.00      0.96      0.98       450\n",
      "                              No Passing       0.99      1.00      0.99       480\n",
      "\n",
      "                                accuracy                           0.99     12630\n",
      "                               macro avg       0.98      0.98      0.98     12630\n",
      "                            weighted avg       0.99      0.99      0.99     12630\n",
      "\n"
     ]
    }
   ],
   "source": [
    "id2label = {\n",
    "    0: 'Speed Limit 20Km/Hr',\n",
    "    1: 'Speed Limit 30Km⁄Hr',\n",
    "    2: 'No Passing Of  Vehicle Over 3.5Ton',\n",
    "    3: 'Crossroads',\n",
    "    4: 'Priority Road Sign',\n",
    "    5: 'Yield',\n",
    "    6: 'Stop',\n",
    "    7: 'No Vehicles',\n",
    "    8: 'Vehicle Over 3.5Ton Prohibited',\n",
    "    9: 'No Entry',\n",
    "    10: 'General Caution',\n",
    "    11: 'Dangerous Curve To Left',\n",
    "    12: 'Speed Limit 50Km⁄Hr',\n",
    "    13: 'Dangerous Curve To Right',\n",
    "    14: 'Double Curve',\n",
    "    15: 'Bumpy Road',\n",
    "    16: 'Slippery Road',\n",
    "    17: 'Narrow Road On Right',\n",
    "    18: 'Road Work',\n",
    "    19: 'Traffic Sign',\n",
    "    20: 'Pedestrian',\n",
    "    21: 'Children Crossing',\n",
    "    22: 'Bicycle Crossing',\n",
    "    23: 'Speed Limit 60Km⁄Hr',\n",
    "    24: 'Beware Of Ice/Snow',\n",
    "    25: 'Wild Animal Crossing',\n",
    "    26: 'End Of All Speed And Passing Limit',\n",
    "    27: 'Compulsory Turn Right',\n",
    "    28: 'Compulsory Turn Left',\n",
    "    29: 'Straight Ahead',\n",
    "    30: 'Go Straight Or Right',\n",
    "    31: 'Go Straight Or Left',\n",
    "    32: 'Avoid Obstacle On Right',\n",
    "    33: 'Avoid Obstacle On Left',\n",
    "    34: 'Speed Limit 70Km⁄Hr',\n",
    "    35: 'Roundabout',\n",
    "    36: 'End Of No Passing',\n",
    "    37: 'End Of No Passing By Vehicle Over 3.5Ton',\n",
    "    38: 'Speed Limit 80Km⁄Hr',\n",
    "    39: 'End Of Speed Limit 80Km/Hr',\n",
    "    40: 'Speed Limit 100Km⁄Hr',\n",
    "    41: 'Speed Limit 120Km⁄Hr',\n",
    "    42: 'No Passing'\n",
    "}\n",
    "\n",
    "print(classification_report(true_labels, predictions, target_names=id2label.values()))"
   ]
  }
 ],
 "metadata": {
  "kernelspec": {
   "display_name": "Python 3 (ipykernel)",
   "language": "python",
   "name": "python3"
  },
  "language_info": {
   "codemirror_mode": {
    "name": "ipython",
    "version": 3
   },
   "file_extension": ".py",
   "mimetype": "text/x-python",
   "name": "python",
   "nbconvert_exporter": "python",
   "pygments_lexer": "ipython3",
   "version": "3.9.12"
  }
 },
 "nbformat": 4,
 "nbformat_minor": 2
}
